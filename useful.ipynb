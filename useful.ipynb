{
 "cells": [
  {
   "cell_type": "markdown",
   "metadata": {},
   "source": [
    "# Useful search method.\n",
    "Using *in* and *if* to search inside and list of objects[.](https://www.kite.com/python/answers/how-to-search-a-list-of-objects-in-python#:~:text=Use%20a%20list%20comprehension%20to,object%20's%20member%20variable%20x%20)"
   ]
  },
  {
   "cell_type": "code",
   "execution_count": null,
   "metadata": {},
   "outputs": [],
   "source": [
    "class Person():\n",
    "    def __init__(self, name, age):\n",
    "        self.name = name\n",
    "        self.age = age\n",
    "person_list = [Person(\"Amy\", 25), Person(\"Bob\", 30), Person(\"Cat\", 25)]\n",
    "\n",
    "age_25_list = [p for p in person_list if p.age == 25]\n",
    "\n",
    "for person in age_25_list:\n",
    "    print(person.name)"
   ]
  }
 ],
 "metadata": {
  "interpreter": {
   "hash": "31f2aee4e71d21fbe5cf8b01ff0e069b9275f58929596ceb00d14d90e3e16cd6"
  },
  "kernelspec": {
   "display_name": "Python 3.8.5 64-bit",
   "name": "python3"
  },
  "language_info": {
   "name": "python",
   "version": ""
  },
  "orig_nbformat": 4
 },
 "nbformat": 4,
 "nbformat_minor": 2
}